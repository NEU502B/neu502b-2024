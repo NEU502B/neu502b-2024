{
 "cells": [
  {
   "cell_type": "markdown",
   "metadata": {},
   "source": [
    "# NEU502B Homework 5\n",
    "*Due April 15, 2024*\n",
    "\n",
    "*Submission instructions:* First, rename your homework notebook to include your name (e.g. `homework-5-nastase.ipynb`); keep your homework notebook in the `homework` directory of your clone of the class repository. Prior to submitting, restart the kernel and run all cells (see *Kernel* > *Restart Kernel and Run All Cells...*) to make sure your code runs and the figures render properly. Only include cells with necessary code or answers; don't include extra cells used for troubleshooting. To submit, `git add`, `git commit`, and `git push` your homework to your fork of the class repository, then make a pull request on GitHub to sync your homework into the class repository."
   ]
  },
  {
   "cell_type": "markdown",
   "metadata": {},
   "source": [
    "In the first homework assignment, we explored how a system can extract latent structure in sensory stimuli (e.g. natural scenes) using unsupervised learning algorithms like Hebbian learning. Our model was shown a set of images with no final goal specified, nor any expectations with which to compare its performance throughout learning. Now, we're interested in how a system can learn to reach a goal through interactions with its environment, by maximizing rewards or minimizing penalties.\n",
    "\n",
    "Reinforcement learning (RL) models solve problems by maximizing some operationalization of reward. These models use goal-directed learning to solve closed-loop problems: present actions influence the environment, thus changing the circumstances of future actions toward the same goal. In RL, we hope to discover the actions that increase chances of rewards within specific states in the environment.\n",
    "\n",
    "<img src=\"model.png\" width=\"400\">  \n",
    "\n",
    "An agent must be able to sense the state of the environment either fully or partially, and its actions must be able to change this state. Consider the following example from Sutton and Barto (1992):\n",
    "> \"Phil prepares his breakfast. Closely examined, even this apparently mundane activity reveals a complex web of conditional behavior and interlocking goal-subgoal relationships: walking to the cupboard, opening it, selecting a cereal box, then reaching for, grasping, and retrieving the box. Other complex, tuned, interactive sequences of behavior are required to obtain a bowl, spoon, and milk jug. Each step involves a series of eye movements to obtain information and to guide reaching and locomotion. Rapid judgments are continually made about how to carry the objects or whether it is better to ferry some of them to the dining table before obtaining others. Each step is guided by goals, such as grasping a spoon or getting to the refrigerator, and is in service of other goals, such as having the spoon to eat with once the cereal is prepared and ultimately obtaining nourishment.\"\n",
    "\n",
    "At each point in time, there is a state-action pair. Some of them fall under sub-goals, while others could ultimately be a state where there is a high chance of reward, fulfilling the goal of feeding. To be able to model this process, we have to break it down into its interacting components: \n",
    "- The agent has a policy, the map between perceived states and the actions taken. We can think of it as a set of stimulus-response rules or associations that determine behavior given a state and a goal within the environment. It can be implemented through the probabilities of taking specific actions given a state. \n",
    "- This set of rules should serve to maximize the reward signal in the short and/or long term. \n",
    "- Environmental states are evaluated through a value function, which provides a measure of the expected rewards that can be obtained moving forward from a specific state. Grabbing a bowl might not feed you immediately, yet it has high value as it will lead you to a state in which you can feed yourself some cereal without spilling milk all over the table. Would grabbing a shallow dish instead of a bowl have the same value? Actions are taken based on these value judgements. \n",
    "- The agent could have the ability for foresight and planning if it has a model of the environment. This means it can have a model of how the environment reacts to its behavior, from which to base its strategies and adjustments.\n",
    "\n",
    "At each decision, the agent has a choice to either exploit the actions it has already tested to be effective, or it can explore the action-state space to find new routes to optimal rewards. Exploration is risky, yet under some circumstances it will pay off in the long run. Finding the balance between the two would be the optimal solution in uncertain environments. Different methods can be employed to deal with this duality:\n",
    "- On-policy methods improve the policy that is used to make decisions. This policy is generally soft (probabilistic), as $P(s∈S,a∈A│s)>0$, where $S$ is the possible states and $A|s$ is the possible actions given a state. The probability is gradually shifted to a deterministic optimal policy with each update. For example, $\\epsilon-greedy$ policies choose an action that has maximal expected value most of the time (with probability 1 – a small number $\\epsilon$). However, with probability $\\epsilon$ the agent will choose an action at random. The agent will try to learn values based on subsequent optimal behavior, yet it has to behave non-optimally (choosing random actions) in order to explore and find the optimal actions. This means the agent has to learn about the optimal policy while behaving according to an exploratory policy. On-policy can be thought of as a compromise, where values are learned for a near optimal policy that still explores. \n",
    "- Another approach is to use two policies, a target policy and a behavior policy. The first one is modified based on the information that is collected through the behaviors generated by the second. This approach is termed off-policy, as learning occurs based on behaviors generated off the policy being developed. The benefit here is that the target policy can be deterministic (i.e. greedy), while the behavior policy can continue to explore without limits."
   ]
  },
  {
   "cell_type": "code",
   "execution_count": 1,
   "metadata": {},
   "outputs": [],
   "source": [
    "import numpy as np\n",
    "import matplotlib.pyplot as plt\n",
    "from scipy.optimize import minimize"
   ]
  },
  {
   "cell_type": "markdown",
   "metadata": {},
   "source": [
    "### Problem 1: Fitting RL models to data\n",
    "\n",
    "First, familiarize yourself with the two-step RL task ([Daw et al., 2011](https://doi.org/10.1016/j.neuron.2011.02.027)). Visit this website to play through an example of the two-step RL task: https://nivlab.github.io/jspsych-demos/tasks/two-step/experiment.html. If you're interested, the Python code for the task can be found at: https://github.com/nivlab/jspsych-demos/tree/main/tasks/two-step.\n",
    "    \n",
    "The data from the two-step task are structured as follows:\n",
    "- **choice1**: your choices at the first level (1 or 2)\n",
    "- **choice2**: your choices at the second level (1 or 2)\n",
    "- **state**: which second level game you were offered on this trial \n",
    "    - choice1 = 1 at the first level (S1) leads to S2 in approximately 70% of the trials\n",
    "    - choice1 = 2 at the first level (S1) leads to S3 in approximately 70% of the trials\n",
    "- **money**: did you get a reward on each trial or not (0 or 1)\n",
    "\n",
    "Note that missed trials will have a 0 in the choice; trials can be missed either at the first or second level. When you write your code (later on), make sure to deal separately with missed trials as this is a common source of discrepancies while fitting the models. Below is a schematic representation of the task structure:\n",
    "\n",
    "\n",
    "<img src=\"task.png\" width=\"400\">\n",
    "\n",
    "|       | $A_1$     | $A_2$     |\n",
    "|:-----:|:---------:|:---------:|\n",
    "| $S_1$ | $Q_{S1,A1}$ | $Q_{S1,A2}$ |\n",
    "| $S_2$ | $Q_{S2,A1}$ | $Q_{S2,A2}$ |\n",
    "| $S_3$ | $Q_{S3,A1}$ | $Q_{S3,A2}$ |\n",
    "\n",
    "\n",
    "The schematic does not map to the colors used in the actual task.  S1 refers to the state at the top (first) level, where you will be shown two distinct rocket ships. You will have to choose one of the two (represented by action | state in the schematic). One of the rockets, let’s say A1|S1 will have 70% chance of transferring you to S2 (one of the possible states at the bottom level), and a 30% chance of getting you to S3. This is represented by the thickness of the arrows. For A2|S1, the chances are inverted. At the bottom (second) level, you can be at either of two distinct states (S2 or S3). You will need to choose between two aliens at each state, with gradually drifting chances of getting a reward once a decision is made. For example, A1|S2 might start with higher chances than A2|S2. These probabilities will change gradually with time and at some point, the chances might be reversed. There is no implicit relationship between what happens in S2 and S3. You will have to learn, with each experience, which choices lead you to better rewards."
   ]
  },
  {
   "cell_type": "markdown",
   "metadata": {},
   "source": [
    "Let's load in the data for one of our subjects. Make sure you understand what each variable contains."
   ]
  },
  {
   "cell_type": "code",
   "execution_count": 2,
   "metadata": {},
   "outputs": [],
   "source": [
    "data = np.load('sub-0.npz')\n",
    "\n",
    "c1 = data['choice1']\n",
    "c2 = data['choice2']\n",
    "s = data['state']\n",
    "m = data['money']"
   ]
  },
  {
   "cell_type": "markdown",
   "metadata": {},
   "source": [
    "At the bottom level, learning can be modeled with $Q$-learning or Rescorla-Wagner learning, as there's no future state. Note that these learning rules are identical if you treat each option as an action (in $Q$-learning) or as a state (the state of the chosen stimulus, in Rescorla-Wagner).\n",
    "\n",
    "> **$Q$-learning**: $Q^{new}(a|s) \\leftarrow Q(a|s) + \\eta * (R_t-Q(a|s))$ \n",
    "\n",
    "> **Rescorla-Wagner learning**: $V_{t+1} \\leftarrow V_T + \\eta * (R_T-V_T)$"
   ]
  },
  {
   "cell_type": "markdown",
   "metadata": {},
   "source": [
    "**Question**: Describe in words the variables in each equation how each the learning rule \"works\":\n",
    "\n",
    "> *$Q$-learning*: $Q^{new}(a|s) \\leftarrow Q(a|s) + \\eta * (R_t-Q(a|s))$\n",
    "> \n",
    "> $Q^{new}(a|s)$: the updated estimated value of conducting action $a$ at state $s$. \n",
    "> \n",
    "> $Q(a|s)$: the current estimated value of the state-action pair $(a,s)$.\n",
    ">\n",
    "> $\\eta$: the learning rate that controls how strongly we weigh the reward prediction error. Between 0 and 1.\n",
    ">\n",
    "> $R_t$: the observed reward from taking action $a$ at state $s$.  \n",
    ">\n",
    "> The learning rule works in Q-learning by creating an inferred estimate of reward for every state and action pair. Then, upon executing an action at a state, we update the inferred estimate of the reward by the reward prediction error scaled by the learning rate. The reward prediction error is the difference between the inferred reward estimate and the observed reward, which can be thought of as a gradient. This process continues for a set number of epochs or until convergence of the $Q$-values.\n",
    "\n",
    "> **Rescorla-Wagner learning**: $V_{t+1} \\leftarrow V_T + \\eta * (R_T-V_T)$\n",
    ">\n",
    "> $V_{t+1}$: the updated expected reward value (in a theoretical setting), or the updated associated value of the stimuli (in a conditioning context).\n",
    ">\n",
    "> $V_{t}$: the current expected reward value (in a theoretical setting), or the current associated value of the stimuli (in a conditioning context).\n",
    ">\n",
    "> $\\eta$: learning rate, between 0 and 1.\n",
    ">\n",
    "> $R_t$: the observed reward at time $t$.\n",
    ">\n",
    "> The learning rule works in a similar way to Q-learning, where we are updating our value function by the reward prediction error scaled by the learning rate. The big difference here is that we do not explicitly map the value of every state-action pair. "
   ]
  },
  {
   "cell_type": "markdown",
   "metadata": {},
   "source": [
    "At the top level, learning can be modeled in several different ways. We'll consider two: (1) **model-free learning** and (2) **model-based learning**."
   ]
  },
  {
   "cell_type": "markdown",
   "metadata": {},
   "source": [
    "For **model-free learning**, we'll start with the temporal difference (TD) learning rule.\n",
    "\n",
    "> **TD(0)**: $V_T \\leftarrow V_T + \\eta*(R_T+\\gamma*V_{T+1}-V_T)$\n",
    "\n",
    "Here, $R_T=0$ because the first state doesn't yield rewards and $\\gamma$ is the temporal discount parameter of future rewards—this allows us to adjust the first-stage actions by taking into account the result of the second-stage action."
   ]
  },
  {
   "cell_type": "markdown",
   "metadata": {},
   "source": [
    "One way to make learning more efficient is to use TD($\\lambda$) instead of TD(0) learning. In this case, we add an additional memory variable associated with each state to serve as an \"eligibility trace\". You can think of it as a \"memory\" that a particular state has been visited, which decays (e.g. exponentially) over time. Every time a state is visited, its eligibility trace becomes 1; at every subsequent time point, the eligibility trace is multiplied by a factor $0 < \\lambda \\leq 1$. At the end of a trial or episode, all eligibility traces become 0.\n",
    "\n",
    "All states are updated according to *learning rate $\\cdot$ prediction error $\\cdot$ eligibility trace*. This will automatically update all the states visited in this episode (i.e. all the states \"eligible\" for updating), doing so for the most recently visited states to a greater extent. Write the updated equation.\n",
    "\n",
    "> **TD($\\lambda$)**: $V_{T+1} = V_T + \\eta * E(\\lambda)*(R_T+\\gamma V_{T+1}-V_T)$"
   ]
  },
  {
   "cell_type": "markdown",
   "metadata": {},
   "source": [
    "**Question**: Again, describe the variables in these equations and how the learning rules \"work\":\n",
    "\n",
    "> $V_{T+1}$: the updated expected reward value. \n",
    ">\n",
    "> $V_t$: the current expected reward value.\n",
    ">\n",
    "> $\\eta$: learning rate, between 0 and 1.\n",
    ">\n",
    "> $E(\\lambda)$: the eligibility traces, which serve as a \"memory\" that a particular state has been visited. It is set to 1 when a state has been visited and exponentially decays as $\\lambda^t$ otherwise. Eligibility traces are useful because they can help deal with nonstationry rewards (rewards that change over time). When we multiply the old reward values for a given state action pair by the decayed eligibility trace, the new reward value dominates the update, allowing the agent to learn more long term dependencies and act more flexibly. \n",
    ">\n",
    "> $R_T$: the observed reward. \n",
    ">\n",
    "> $\\gamma$: the discount factor, which determines how much the agent cares about rewards in the future. \n",
    ">\n",
    "> The learning rule works similarly to the models we have seen earlier, except now the reward prediction error term has changed. We multiply the reward prediction error by the eligibility trace to deal with temporal dependencies in the reward structure. We also add the next timestep's expected reward in the reward prediction error. This allows the agent to pick the action that will maximize reward in the future, not only maximize the most recent action-state pair. The overall algorithm works very much the same. We initialize the value function (usually with something like a Markov chain or some other mmodel that incorporates temporal dependencies), transition across states, and update our value function accordingly. We now have to also adjust the elgibility traces after each time step. \n"
   ]
  },
  {
   "cell_type": "markdown",
   "metadata": {},
   "source": [
    "For **model-based learning**, let's begin by assuming that transition model (i.e. the probabilities of going from $S1$ to $S2$ or $S3$ given choice1) is known from the start—while the reward model is not known."
   ]
  },
  {
   "cell_type": "markdown",
   "metadata": {},
   "source": [
    "**Question**: How can you use the transition probabilities and the learned values at the second-stage states to plan and make choices at the first stage? How would you implement this model?\n",
    "\n",
    "> We know the learned values at the second stage, so we can use the law of total probability to find the total expected reward. Let $p(s', s | a)$ denote the probability of transitioning to state $s'$ from $s$ given action $a$. We then see that the reward for a given action in the first stage are given by $\\sum_{s'} P(s', s | a) V(s')$. It then follows that to pick the correct choice in the first stage, we need to find the action that leads to maximum the expected reward in the 2nd stage, $argmax_{a} \\sum_{s'} P(s', s | a) V(s')$."
   ]
  },
  {
   "cell_type": "markdown",
   "metadata": {},
   "source": [
    "**Question**: How many parameters do each the four models have?\n",
    "\n",
    "> Rescorla-Wagner and Q-learning have 1 explicit parameter, the learning rate $\\eta$. However, if we are to treat the initial conditions as parameters, then we have an additional # states x # actions of parameters for Q-learning and # time steps parameters for Rescorla-Wagner learning. TD(0) has 2 explicit parameters, $\\gamma$ and $\\eta$ while TD($\\lambda$) learning has 3 parameters, $\\gamma$, $\\lambda$, $\\eta$. "
   ]
  },
  {
   "cell_type": "markdown",
   "metadata": {},
   "source": [
    "Now we'll implement and fit the following models. Implement TD($\\lambda$) using the $Q$-learning and State-Action-Reward-State-Action (SARSA) algorithms. Some pseudocode is provided to get you started. These algorithms use state-action value predictions ($Q$ values) to choose actions. In state $S$, the algorithm chooses an action according to softmax $Q$ values.\n",
    "\n",
    "<img src=\"Pas.png\" width=\"550\"> \n",
    "\n",
    "Here, $β$ is an inverse-temperature parameter that we'll optimize. If you're using constrained optimization, fix $β$ to be in the range [0, 100].\n",
    "\n",
    "Update the eligibility traces. Recall that the eligibility traces are values corresponding to each state and action pair, and are set to zero at the beginning of the trial. Upon taking action $a$ to leave state $S$ for state $S^{new}$ and receiving reward $r$, the eligibility traces $e(a│S)$ are updated for each $(S, a)$ pair:\n",
    "\n",
    "<img src=\"eaS.png\" width=\"300\">\n",
    "\n",
    "All $Q(a|S)$ are updated according to:\n",
    "\n",
    "<img src=\"Q.png\" width=\"250\">\n",
    "\n",
    "With prediction error $δ(t)$ being: \n",
    "\n",
    "<img src=\"delta.png\" width=\"400\">\n",
    "\n",
    "The parameter $η$ is a step-size or learning-rate parameter in the range (0,1]. \n",
    "\n",
    "Reset the eligibility traces to 0 at the end of each round."
   ]
  },
  {
   "cell_type": "code",
   "execution_count": 3,
   "metadata": {},
   "outputs": [],
   "source": [
    "# Implements log sum exp trick for numerical stability\n",
    "from scipy.special import softmax "
   ]
  },
  {
   "cell_type": "code",
   "execution_count": 4,
   "metadata": {},
   "outputs": [],
   "source": [
    "def rl_nll(params, state, choice1, choice2, money, model_based=False):\n",
    "    eta, beta, lambd = params\n",
    "    n_states = 3\n",
    "    n_actions = 2\n",
    "    n_trials = len(state)\n",
    "    \n",
    "    # Initialize an array to store Q-values that is size n_states x n_actions\n",
    "    Q = np.zeros((n_states, n_actions))\n",
    "    \n",
    "    # Initialize log-likelihood\n",
    "    LL = 0\n",
    "    \n",
    "    for t in range(n_trials):\n",
    "        \n",
    "        # Create an n_states x n_actions matrix to store your eligibility traces for the current trial\n",
    "        E = np.zeros((n_states, n_actions))\n",
    "        \n",
    "        # Get your current state for the top level (S1)\n",
    "        S = 0\n",
    "        \n",
    "        # Stop if trial was missed. Missed trials will have a value of -1.\n",
    "        if choice1[t] == -1:\n",
    "            continue\n",
    "                \n",
    "        # First level choice likelihood: compute likelihood of choice at the first state S1. \n",
    "        # Your likelihood should be a softmax function.\n",
    "        p_chosen = softmax(beta * Q[S])[choice1[t]]\n",
    "        # Update the log likelihood\n",
    "        LL += np.log(p_chosen)\n",
    "\n",
    "        # Learning at first level: update your eligibility trace according to\n",
    "        # e(a|S) = 1                       for the chosen action (a) in the current state (S)\n",
    "        # e(a|S) = lambda * e(a|S)         for all other a, S pairs\n",
    "        E = lambd * E\n",
    "        E[S, choice1[t]] = 1 \n",
    "        \n",
    "        # Update prediction error without reward (because we are in the first level)\n",
    "        if model_based:\n",
    "            # Implement SARSA update for model based learning\n",
    "            # Keep in mind that choosing 1 at the first level (S1) leads to S2 in approximately 70% of the trials \n",
    "            # and choosing 2 at the first level (S1) leads to S3 in approximately 70% of the trials\n",
    "            if choice1[t] == 0:\n",
    "                PE = (0.7 * Q[1].max() + 0.3 * Q[2].max()) - Q[S, choice1[t]] \n",
    "            else:\n",
    "                PE = (0.3 * Q[1].max() + 0.7 * Q[2].max()) - Q[S, choice1[t]]\n",
    "        else:\n",
    "            # Implement Q-learning update for model free learning\n",
    "            PE = Q[state[t]].max() - Q[S, choice1[t]] # No previous reward\n",
    "        \n",
    "        # update Q values according to Q = Q + eta * prediction errror * eligibility\n",
    "        Q += eta * PE * E\n",
    "        \n",
    "        # Get your current state for the second level (S2 or S3)\n",
    "        S = state[t] \n",
    "        \n",
    "        # Stop if trial was missed at the second level. Missed trials will have a value of -1\n",
    "        if choice2[t] == -1:\n",
    "            continue\n",
    "            \n",
    "        # Second level choice likelihood: compute likelihood of choice at the second state (S2 or S3). \n",
    "        # Your likelihood should be a softmax function.\n",
    "        p_chosen = softmax(beta * Q[S])[choice2[t]]\n",
    "        # Update your log likelihood\n",
    "        LL += np.log(p_chosen)\n",
    "\n",
    "        # Learning at second level: update your eligibility trace according to\n",
    "        # e(a|S) = 1                       for the chosen action (a) in the current state (S)\n",
    "        # e(a|S) = lambda * e(a|S)         for all other a, S pairs\n",
    "        E = lambd * E\n",
    "        E[S, choice2[t]] = 1\n",
    "        \n",
    "        # Update the prediction error with reward because we are in the second level\n",
    "        # NOTE: This update IS NOT dependent on the next state because we are in the final state\n",
    "        PE = money[t] - Q[S, choice2[t]]\n",
    "        \n",
    "        # update Q values according to Q = Q + eta * prediction errror * eligibility\n",
    "        Q += eta * PE * E\n",
    "    \n",
    "    return -LL"
   ]
  },
  {
   "cell_type": "markdown",
   "metadata": {},
   "source": [
    "**Question**: Is the prediction error ($\\delta$) update in the second stage fundamentally similar or different between $Q$-learning and SARSA? Explain your answer.\n",
    "\n",
    "> They are fundamentally similar because in the second stage is the final stage (no future states), so the reward prediciton error terms are functionally identical. \n",
    ">"
   ]
  },
  {
   "cell_type": "markdown",
   "metadata": {},
   "source": [
    "**Question**: Which of these two algorithms is considered on-policy, which is off-policy, and why?\n",
    "\n",
    "> SARSA is an on-policy algorithm because it requires the agent to act randomly in order to update its policy and updates that same policy used to take the action. Q-learning is off-policy because it does not care about the policy used to take actions and explore, it only updates the policy based on the optimal action-state pairs. "
   ]
  },
  {
   "cell_type": "markdown",
   "metadata": {},
   "source": [
    "For each subject, load in their data as described at the beginning of the assignment (`sub-0.npz` to `sub-4.npz`). The `sub-0.npz` file contains sample data, while the rest are experimental data collected from other students at PNI. Use SciPy's [`minimize`](https://docs.scipy.org/doc/scipy/reference/generated/scipy.optimize.minimize.html) function (imported at the beginning of the problem set) to fit the two models to each of the subjects. You may also want to keep of the number of trials completed by each subject. "
   ]
  },
  {
   "cell_type": "code",
   "execution_count": 5,
   "metadata": {},
   "outputs": [],
   "source": [
    "# Set some parameters\n",
    "np.random.seed(1312)\n",
    "params = [.5, 50, .5]\n",
    "bounds = [(0, 1), (0, 100), (0, 1)]\n",
    "sub_fns = ['sub-0.npz', 'sub-1.npz', 'sub-2.npz',\n",
    "           'sub-3.npz', 'sub-4.npz']\n",
    "\n",
    "# Example solver method for SciPy's minimize\n",
    "method = 'TNC'\n",
    "\n",
    "# Loop through subjects, load data, and fit models:\n",
    "llhs = {\"Q-learning\":[], \"SARSA\":[]}\n",
    "sub_trials = []\n",
    "for i, subject in enumerate(sub_fns):\n",
    "    # Load Data \n",
    "    data = np.load(subject, allow_pickle=True)\n",
    "    s = data['state']\n",
    "    c1 = data['choice1']\n",
    "    c2 = data['choice2']\n",
    "    m = data['money']\n",
    "    # Model free \n",
    "    llhs[\"Q-learning\"].append(\n",
    "        minimize(rl_nll, params, args=(s, c1, c2, m, False), method=method, bounds=bounds).fun)\n",
    "    # Model based \n",
    "    llhs[\"SARSA\"].append(\n",
    "        minimize(rl_nll, params, args=(s, c1, c2, m, True), method=method, bounds=bounds).fun)\n",
    "    # Tracking trial counts \n",
    "    sub_trials.append(np.sum((c1 != -1) * (c2 != -1)))"
   ]
  },
  {
   "cell_type": "markdown",
   "metadata": {},
   "source": [
    "Use Bayesian information criterion (BIC) to compare which is the best-fitting model for each subject. Compute BICs using the following formula:\n",
    "\n",
    "> $BIC = -2 * \\text{log-likelihood} + \\ln(\\text{number of trials}) *  \\text{number of parameters}$\n",
    "\n",
    "where $\\ln()$ is the natural logarithm. BIC is defined here on the deviance scale, which means that lower values are better. **Question**: Which model fits each subject's behavior best?"
   ]
  },
  {
   "cell_type": "code",
   "execution_count": 6,
   "metadata": {},
   "outputs": [],
   "source": [
    "# Compute BIC for each model and subject\n",
    "n_params = len(params)\n",
    "BIC = lambda llh, n_trials: 2 * llh + np.log(n_trials) * n_params\n",
    "bic_vals = {k: [BIC(v[i], sub_trials[i]) for i, x in enumerate(v)] for k, v in llhs.items()}"
   ]
  },
  {
   "cell_type": "code",
   "execution_count": 7,
   "metadata": {},
   "outputs": [
    {
     "data": {
      "image/png": "[encoded data removed]",
      "text/plain": [
       "<Figure size 640x480 with 1 Axes>"
      ]
     },
     "metadata": {},
     "output_type": "display_data"
    }
   ],
   "source": [
    "for key in bic_vals.keys():\n",
    "    plt.plot(bic_vals[key], 'o', label=key)\n",
    "plt.xlabel(\"Subject\")\n",
    "plt.gca().set_xticks(np.arange(len(sub_fns)), np.arange(len(sub_fns))+1)\n",
    "plt.ylabel(\"BIC (a.u.)\")\n",
    "plt.legend();"
   ]
  },
  {
   "cell_type": "code",
   "execution_count": 8,
   "metadata": {},
   "outputs": [
    {
     "data": {
      "text/plain": [
       "{'Q-learning': [1191.906591786759,\n",
       "  528.717380873649,\n",
       "  499.9963062951384,\n",
       "  565.2970938209482,\n",
       "  546.8612757227711],\n",
       " 'SARSA': [1202.3389396359746,\n",
       "  530.3646373648952,\n",
       "  500.72653932256037,\n",
       "  565.2981403710074,\n",
       "  548.4766102413089]}"
      ]
     },
     "execution_count": 8,
     "metadata": {},
     "output_type": "execute_result"
    }
   ],
   "source": [
    "bic_vals"
   ]
  },
  {
   "cell_type": "markdown",
   "metadata": {},
   "source": [
    "> SARSA performs better for all subjects, but the difference is not very significant. Both algorthims achieve nearly the same BIC across all subjects. "
   ]
  },
  {
   "cell_type": "markdown",
   "metadata": {},
   "source": [
    "### Problem 2: Cliff walking\n",
    "\n",
    "Consider the grid world shown below. This is a standard undiscounted, episodic task, with start and goal states, and the usual actions causing movement up, down, right, and left. Reward is -1 on all transitions except those into the region marked “The Cliff.” Stepping into this region incurs a reward of -100 and sends the agent instantly back to the start.\n",
    "\n",
    "<img src=\"cliff.png\" width=\"550\">  \n",
    "\n",
    "Two paths are marked: an optimal path which incurs the least costs on the way to the goal, and a roundabout (but safe) path that walks farthest from the cliff."
   ]
  },
  {
   "cell_type": "markdown",
   "metadata": {},
   "source": [
    "**Question**: Which algorithm, SARSA or $Q$-learning, would learn either path, and why?\n",
    "\n",
    "> SARSA would learn the safe path while Q-learning would learn the optimal path. This is because Q-learning is an off-policy learning, i.e. the behavior policy can explore without limits and only update based on the path that led to the optimal outcome, arriving at the goal as quickly as possible. On the other hand, SARSA would learn the safe path because it is an on-policy algorithm. The SARSA algorithm will update the policy if the agent has fallen off the cliff and thus reflect the high cost of falling off the cliff in its final policy. To avoid this high penalty, it will converge to the safe path. "
   ]
  },
  {
   "cell_type": "markdown",
   "metadata": {},
   "source": [
    "**Question**: When behaving according to the softmax of the learned $Q$ values, which path would an agent prefer? (Consider the parameter $β$ and the stability of the environment.) \n",
    "\n",
    "> The logits for the softmax are given as $e^{\\beta z_i} / LSE(\\beta z)$, and hence the chosen path will reflect the value of $\\beta$. When $\\beta$ is low, then the action-state values are relatively uniformly distributed making choices stochastic. In this setting, it would be preferable to take the safe path as it would be optimal to put distance between the agent and the cliff in order to prevent the agent from randomly falling off the cliff. When $\\beta$ is high, there will be one dominant action-state pair, i.e. choices will be more determinstic. In this setting the agent would prefer the optimal path, as falling off the cliff is unlikely. Since the envirnment encodes the reward structure, it will also influence the preferred path. When the environment is stable, the optimal path is preferred since the probability of falling off the cliff is low. When transitions are more unstable, the safe path is preferred. "
   ]
  },
  {
   "cell_type": "markdown",
   "metadata": {},
   "source": [
    "**Question**: Can you explain why on-policy methods might be superior for learning real-world motor behavior?\n",
    "\n",
    "> On-policy methods are superior because real world motor behavior is learned in a constrained environment, i.e. real world agents learn specific motor sequences that satisfy a goal, but not necessarily the most optimal motor sequence to accomplish the goal. In other words, real world agents need to update the value of each state-action pair from an executed action regardless of whether or not it was the optimal action. Real world agents want precise value information to transition between state-action pairs flexibly. In a more abstract sense, real world agents also need to strike a balance between exploration and risk avoidance due to things like predators."
   ]
  },
  {
   "cell_type": "markdown",
   "metadata": {},
   "source": [
    "#### References\n",
    "\n",
    "* Daw, N. D., Gershman, S. J., Seymour, B., Dayan, P., & Dolan, R. J. (2011). Model-based influences on humans' choices and striatal prediction errors. *Neuron*, *69*(6), 1204–1215. https://doi.org/10.1016/j.neuron.2011.02.027\n",
    "\n",
    "* Sutton, R. S., & Barto, A. G. (1992). Reinforcement Learning: An Introduction. MIT Press."
   ]
  }
 ],
 "metadata": {
  "kernelspec": {
   "display_name": "Python 3 (ipykernel)",
   "language": "python",
   "name": "python3"
  },
  "language_info": {
   "codemirror_mode": {
    "name": "ipython",
    "version": 3
   },
   "file_extension": ".py",
   "mimetype": "text/x-python",
   "name": "python",
   "nbconvert_exporter": "python",
   "pygments_lexer": "ipython3",
   "version": "3.9.18"
  }
 },
 "nbformat": 4,
 "nbformat_minor": 4
}
